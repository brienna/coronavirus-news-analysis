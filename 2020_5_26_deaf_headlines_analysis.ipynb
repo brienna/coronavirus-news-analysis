{
 "cells": [
  {
   "cell_type": "markdown",
   "metadata": {},
   "source": [
    "# Analysis of headlines about the deaf over the last 169 years"
   ]
  },
  {
   "cell_type": "markdown",
   "metadata": {},
   "source": [
    "Load dependencies."
   ]
  },
  {
   "cell_type": "code",
   "execution_count": 235,
   "metadata": {},
   "outputs": [],
   "source": [
    "import pandas as pd\n",
    "import glob\n",
    "from ast import literal_eval\n",
    "import matplotlib.pyplot as plt\n",
    "plt.style.use('dark_background')\n",
    "pd.options.display.max_colwidth = 100\n",
    "import nltk\n",
    "from nltk.corpus import stopwords"
   ]
  },
  {
   "cell_type": "markdown",
   "metadata": {},
   "source": [
    "Load all headlines from the last 169 years."
   ]
  },
  {
   "cell_type": "code",
   "execution_count": 217,
   "metadata": {},
   "outputs": [],
   "source": [
    "all_files = glob.glob(\"headlines/*.csv\")\n",
    "df = pd.concat((pd.read_csv(f) for f in all_files))\n",
    "df['date'] = pd.to_datetime(df['date']) # sets format of \"date\" column as datetime\n",
    "df = df[df['headline'].notna()].drop_duplicates().sort_values(by='date') \n",
    "df['keywords'] = df['keywords'].apply(literal_eval)"
   ]
  },
  {
   "cell_type": "code",
   "execution_count": 5,
   "metadata": {},
   "outputs": [
    {
     "data": {
      "text/html": [
       "<div>\n",
       "<style scoped>\n",
       "    .dataframe tbody tr th:only-of-type {\n",
       "        vertical-align: middle;\n",
       "    }\n",
       "\n",
       "    .dataframe tbody tr th {\n",
       "        vertical-align: top;\n",
       "    }\n",
       "\n",
       "    .dataframe thead th {\n",
       "        text-align: right;\n",
       "    }\n",
       "</style>\n",
       "<table border=\"1\" class=\"dataframe\">\n",
       "  <thead>\n",
       "    <tr style=\"text-align: right;\">\n",
       "      <th></th>\n",
       "      <th>headline</th>\n",
       "      <th>date</th>\n",
       "      <th>doc_type</th>\n",
       "      <th>material_type</th>\n",
       "      <th>section</th>\n",
       "      <th>keywords</th>\n",
       "    </tr>\n",
       "  </thead>\n",
       "  <tbody>\n",
       "    <tr>\n",
       "      <td>56</td>\n",
       "      <td>From Bosoton--Specie arrived by the Europa-Mov...</td>\n",
       "      <td>1851-09-18</td>\n",
       "      <td>article</td>\n",
       "      <td>Archives</td>\n",
       "      <td>NaN</td>\n",
       "      <td>[]</td>\n",
       "    </tr>\n",
       "    <tr>\n",
       "      <td>58</td>\n",
       "      <td>New-York State Fair.</td>\n",
       "      <td>1851-09-18</td>\n",
       "      <td>article</td>\n",
       "      <td>Archives</td>\n",
       "      <td>NaN</td>\n",
       "      <td>[]</td>\n",
       "    </tr>\n",
       "    <tr>\n",
       "      <td>57</td>\n",
       "      <td>Texan Stock-Decision of the President.</td>\n",
       "      <td>1851-09-18</td>\n",
       "      <td>article</td>\n",
       "      <td>Archives</td>\n",
       "      <td>NaN</td>\n",
       "      <td>[]</td>\n",
       "    </tr>\n",
       "    <tr>\n",
       "      <td>55</td>\n",
       "      <td>Article 15 -- No Title</td>\n",
       "      <td>1851-09-18</td>\n",
       "      <td>article</td>\n",
       "      <td>Archives</td>\n",
       "      <td>NaN</td>\n",
       "      <td>[]</td>\n",
       "    </tr>\n",
       "    <tr>\n",
       "      <td>54</td>\n",
       "      <td>Article 8 -- No Title</td>\n",
       "      <td>1851-09-18</td>\n",
       "      <td>article</td>\n",
       "      <td>Archives</td>\n",
       "      <td>NaN</td>\n",
       "      <td>[]</td>\n",
       "    </tr>\n",
       "    <tr>\n",
       "      <td>...</td>\n",
       "      <td>...</td>\n",
       "      <td>...</td>\n",
       "      <td>...</td>\n",
       "      <td>...</td>\n",
       "      <td>...</td>\n",
       "      <td>...</td>\n",
       "    </tr>\n",
       "    <tr>\n",
       "      <td>4930</td>\n",
       "      <td>For Kenny Chesney and Others, Promotion in a P...</td>\n",
       "      <td>2020-05-25</td>\n",
       "      <td>article</td>\n",
       "      <td>News</td>\n",
       "      <td>NaN</td>\n",
       "      <td>[Country Music, Books and Literature, Coronavi...</td>\n",
       "    </tr>\n",
       "    <tr>\n",
       "      <td>4929</td>\n",
       "      <td>The Future of College Is Online, and It’s Cheaper</td>\n",
       "      <td>2020-05-25</td>\n",
       "      <td>article</td>\n",
       "      <td>Op-Ed</td>\n",
       "      <td>NaN</td>\n",
       "      <td>[Colleges and Universities, E-Learning, Comput...</td>\n",
       "    </tr>\n",
       "    <tr>\n",
       "      <td>4928</td>\n",
       "      <td>Your Tuesday Briefing</td>\n",
       "      <td>2020-05-25</td>\n",
       "      <td>article</td>\n",
       "      <td>briefing</td>\n",
       "      <td>NaN</td>\n",
       "      <td>[]</td>\n",
       "    </tr>\n",
       "    <tr>\n",
       "      <td>4965</td>\n",
       "      <td>He Died at War. The Pandemic Gave Me Time to G...</td>\n",
       "      <td>2020-05-25</td>\n",
       "      <td>article</td>\n",
       "      <td>News</td>\n",
       "      <td>NaN</td>\n",
       "      <td>[United States Defense and Military Forces, Da...</td>\n",
       "    </tr>\n",
       "    <tr>\n",
       "      <td>4853</td>\n",
       "      <td>New Yorkers Mark a Subdued Memorial Day</td>\n",
       "      <td>2020-05-25</td>\n",
       "      <td>article</td>\n",
       "      <td>News</td>\n",
       "      <td>NaN</td>\n",
       "      <td>[Coronavirus (2019-nCoV)]</td>\n",
       "    </tr>\n",
       "  </tbody>\n",
       "</table>\n",
       "<p>14910907 rows × 6 columns</p>\n",
       "</div>"
      ],
      "text/plain": [
       "                                               headline       date doc_type  \\\n",
       "56    From Bosoton--Specie arrived by the Europa-Mov... 1851-09-18  article   \n",
       "58                                 New-York State Fair. 1851-09-18  article   \n",
       "57               Texan Stock-Decision of the President. 1851-09-18  article   \n",
       "55                               Article 15 -- No Title 1851-09-18  article   \n",
       "54                                Article 8 -- No Title 1851-09-18  article   \n",
       "...                                                 ...        ...      ...   \n",
       "4930  For Kenny Chesney and Others, Promotion in a P... 2020-05-25  article   \n",
       "4929  The Future of College Is Online, and It’s Cheaper 2020-05-25  article   \n",
       "4928                              Your Tuesday Briefing 2020-05-25  article   \n",
       "4965  He Died at War. The Pandemic Gave Me Time to G... 2020-05-25  article   \n",
       "4853            New Yorkers Mark a Subdued Memorial Day 2020-05-25  article   \n",
       "\n",
       "     material_type section                                           keywords  \n",
       "56        Archives     NaN                                                 []  \n",
       "58        Archives     NaN                                                 []  \n",
       "57        Archives     NaN                                                 []  \n",
       "55        Archives     NaN                                                 []  \n",
       "54        Archives     NaN                                                 []  \n",
       "...            ...     ...                                                ...  \n",
       "4930          News     NaN  [Country Music, Books and Literature, Coronavi...  \n",
       "4929         Op-Ed     NaN  [Colleges and Universities, E-Learning, Comput...  \n",
       "4928      briefing     NaN                                                 []  \n",
       "4965          News     NaN  [United States Defense and Military Forces, Da...  \n",
       "4853          News     NaN                          [Coronavirus (2019-nCoV)]  \n",
       "\n",
       "[14910907 rows x 6 columns]"
      ]
     },
     "execution_count": 5,
     "metadata": {},
     "output_type": "execute_result"
    }
   ],
   "source": [
    "df"
   ]
  },
  {
   "cell_type": "markdown",
   "metadata": {},
   "source": [
    "We have almost 14.9 million headlines!\n",
    "\n",
    "The New York Times assigns some keywords that are related to the deaf. Look at all possible keywords."
   ]
  },
  {
   "cell_type": "code",
   "execution_count": 65,
   "metadata": {},
   "outputs": [
    {
     "data": {
      "text/plain": [
       "73290"
      ]
     },
     "execution_count": 65,
     "metadata": {},
     "output_type": "execute_result"
    }
   ],
   "source": [
    "keyword_counts = pd.Series(x.lower() for l in df['keywords'] for x in l).value_counts(ascending=False)\n",
    "keyword_counts = keyword_counts[keyword_counts >= 2]\n",
    "len(keyword_counts)"
   ]
  },
  {
   "cell_type": "markdown",
   "metadata": {},
   "source": [
    "We have 73,290 unique keywords."
   ]
  },
  {
   "cell_type": "code",
   "execution_count": 8,
   "metadata": {
    "scrolled": false
   },
   "outputs": [
    {
     "data": {
      "text/plain": [
       "['deafness',\n",
       " 'ears and hearing',\n",
       " 'deafness and deaf mutes',\n",
       " 'deafness and deaf-mutes',\n",
       " 'sign language',\n",
       " 'hearing aids',\n",
       " 'deafness and deaf‐mutes',\n",
       " 'deaf mutes',\n",
       " 'deaf, the',\n",
       " 'cochlear implants',\n",
       " 'deaf',\n",
       " 'deaf-mutes',\n",
       " 'deaf drivers',\n",
       " 'sign languages',\n",
       " 'deaf voters',\n",
       " 'international deaf mute olympics',\n",
       " 'deaf, games for the',\n",
       " 'deaf children']"
      ]
     },
     "execution_count": 8,
     "metadata": {},
     "output_type": "execute_result"
    }
   ],
   "source": [
    "deaf_keywords = [x for x in keyword_counts.keys() if 'deaf' in x \n",
    "                 or 'sign language' in x \n",
    "                 or 'ears and hearing' in x \n",
    "                 or 'hearing aids' in x \n",
    "                 or 'cochlear implant' in x]\n",
    "deaf_keywords"
   ]
  },
  {
   "cell_type": "markdown",
   "metadata": {},
   "source": [
    "Overall keyword count."
   ]
  },
  {
   "cell_type": "code",
   "execution_count": 24,
   "metadata": {},
   "outputs": [
    {
     "data": {
      "text/plain": [
       "politics and government               245855\n",
       "deaths                                236885\n",
       "company reports                       185307\n",
       "books and literature                  175884\n",
       "elections                             173335\n",
       "general                               169616\n",
       "reviews                               151581\n",
       "finances                              144086\n",
       "music                                 138919\n",
       "deaths and death rate                 135094\n",
       "labor                                 134820\n",
       "miscellaneous section                 131649\n",
       "european war                          128174\n",
       "baseball                              123570\n",
       "stocks and bonds                      107771\n",
       "education and schools                 105014\n",
       "world war ii                          100333\n",
       "terms not available                   100237\n",
       "art                                    96798\n",
       "football                               95215\n",
       "international relations                94643\n",
       "united states armament and defense     89521\n",
       "biographical information               86775\n",
       "accidents                              86516\n",
       "automobiles                            85054\n",
       "dtype: int64"
      ]
     },
     "execution_count": 24,
     "metadata": {},
     "output_type": "execute_result"
    }
   ],
   "source": [
    "keyword_counts.head(25)"
   ]
  },
  {
   "cell_type": "markdown",
   "metadata": {},
   "source": [
    "Overall deaf keyword count."
   ]
  },
  {
   "cell_type": "code",
   "execution_count": 26,
   "metadata": {},
   "outputs": [
    {
     "data": {
      "image/png": "[encoded data removed]",
      "text/plain": [
       "<Figure size 1440x360 with 1 Axes>"
      ]
     },
     "metadata": {},
     "output_type": "display_data"
    }
   ],
   "source": [
    "keyword_counts_list = list(keyword_counts.keys())\n",
    "frequencies = []\n",
    "for keyword in deaf_keywords:\n",
    "    index = keyword_counts_list.index(keyword)\n",
    "    frequencies.append(keyword_counts.iloc[index])\n",
    "    \n",
    "plt.figure(figsize=(20, 5))\n",
    "plt.barh(deaf_keywords, frequencies)\n",
    "plt.title('NYT deaf keyword frequency')\n",
    "plt.show()"
   ]
  },
  {
   "cell_type": "markdown",
   "metadata": {},
   "source": [
    "Get time ranges for each keyword."
   ]
  },
  {
   "cell_type": "code",
   "execution_count": 49,
   "metadata": {},
   "outputs": [
    {
     "ename": "KeyError",
     "evalue": "True",
     "output_type": "error",
     "traceback": [
      "\u001b[0;31m---------------------------------------------------------------------------\u001b[0m",
      "\u001b[0;31mKeyError\u001b[0m                                  Traceback (most recent call last)",
      "\u001b[0;32m~/anaconda3/lib/python3.6/site-packages/pandas/core/indexes/base.py\u001b[0m in \u001b[0;36mget_loc\u001b[0;34m(self, key, method, tolerance)\u001b[0m\n\u001b[1;32m   2896\u001b[0m             \u001b[0;32mtry\u001b[0m\u001b[0;34m:\u001b[0m\u001b[0;34m\u001b[0m\u001b[0m\n\u001b[0;32m-> 2897\u001b[0;31m                 \u001b[0;32mreturn\u001b[0m \u001b[0mself\u001b[0m\u001b[0;34m.\u001b[0m\u001b[0m_engine\u001b[0m\u001b[0;34m.\u001b[0m\u001b[0mget_loc\u001b[0m\u001b[0;34m(\u001b[0m\u001b[0mkey\u001b[0m\u001b[0;34m)\u001b[0m\u001b[0;34m\u001b[0m\u001b[0m\n\u001b[0m\u001b[1;32m   2898\u001b[0m             \u001b[0;32mexcept\u001b[0m \u001b[0mKeyError\u001b[0m\u001b[0;34m:\u001b[0m\u001b[0;34m\u001b[0m\u001b[0m\n",
      "\u001b[0;32mpandas/_libs/index.pyx\u001b[0m in \u001b[0;36mpandas._libs.index.IndexEngine.get_loc\u001b[0;34m()\u001b[0m\n",
      "\u001b[0;32mpandas/_libs/index.pyx\u001b[0m in \u001b[0;36mpandas._libs.index.IndexEngine.get_loc\u001b[0;34m()\u001b[0m\n",
      "\u001b[0;32mpandas/_libs/hashtable_class_helper.pxi\u001b[0m in \u001b[0;36mpandas._libs.hashtable.PyObjectHashTable.get_item\u001b[0;34m()\u001b[0m\n",
      "\u001b[0;32mpandas/_libs/hashtable_class_helper.pxi\u001b[0m in \u001b[0;36mpandas._libs.hashtable.PyObjectHashTable.get_item\u001b[0;34m()\u001b[0m\n",
      "\u001b[0;31mKeyError\u001b[0m: True",
      "\nDuring handling of the above exception, another exception occurred:\n",
      "\u001b[0;31mKeyError\u001b[0m                                  Traceback (most recent call last)",
      "\u001b[0;32m<ipython-input-49-05c34c28563c>\u001b[0m in \u001b[0;36m<module>\u001b[0;34m\u001b[0m\n\u001b[1;32m      1\u001b[0m \u001b[0;31m# If a keyword shows up in\u001b[0m\u001b[0;34m\u001b[0m\u001b[0;34m\u001b[0m\u001b[0m\n\u001b[0;32m----> 2\u001b[0;31m \u001b[0mdf\u001b[0m\u001b[0;34m[\u001b[0m\u001b[0;34m'SERMONS'\u001b[0m \u001b[0;32min\u001b[0m \u001b[0mdf\u001b[0m\u001b[0;34m[\u001b[0m\u001b[0;34m'keywords'\u001b[0m\u001b[0;34m]\u001b[0m\u001b[0;34m.\u001b[0m\u001b[0miloc\u001b[0m\u001b[0;34m[\u001b[0m\u001b[0;36m5000000\u001b[0m\u001b[0;34m]\u001b[0m\u001b[0;34m]\u001b[0m\u001b[0;34m\u001b[0m\u001b[0m\n\u001b[0m",
      "\u001b[0;32m~/anaconda3/lib/python3.6/site-packages/pandas/core/frame.py\u001b[0m in \u001b[0;36m__getitem__\u001b[0;34m(self, key)\u001b[0m\n\u001b[1;32m   2978\u001b[0m             \u001b[0;32mif\u001b[0m \u001b[0mself\u001b[0m\u001b[0;34m.\u001b[0m\u001b[0mcolumns\u001b[0m\u001b[0;34m.\u001b[0m\u001b[0mnlevels\u001b[0m \u001b[0;34m>\u001b[0m \u001b[0;36m1\u001b[0m\u001b[0;34m:\u001b[0m\u001b[0;34m\u001b[0m\u001b[0m\n\u001b[1;32m   2979\u001b[0m                 \u001b[0;32mreturn\u001b[0m \u001b[0mself\u001b[0m\u001b[0;34m.\u001b[0m\u001b[0m_getitem_multilevel\u001b[0m\u001b[0;34m(\u001b[0m\u001b[0mkey\u001b[0m\u001b[0;34m)\u001b[0m\u001b[0;34m\u001b[0m\u001b[0m\n\u001b[0;32m-> 2980\u001b[0;31m             \u001b[0mindexer\u001b[0m \u001b[0;34m=\u001b[0m \u001b[0mself\u001b[0m\u001b[0;34m.\u001b[0m\u001b[0mcolumns\u001b[0m\u001b[0;34m.\u001b[0m\u001b[0mget_loc\u001b[0m\u001b[0;34m(\u001b[0m\u001b[0mkey\u001b[0m\u001b[0;34m)\u001b[0m\u001b[0;34m\u001b[0m\u001b[0m\n\u001b[0m\u001b[1;32m   2981\u001b[0m             \u001b[0;32mif\u001b[0m \u001b[0mis_integer\u001b[0m\u001b[0;34m(\u001b[0m\u001b[0mindexer\u001b[0m\u001b[0;34m)\u001b[0m\u001b[0;34m:\u001b[0m\u001b[0;34m\u001b[0m\u001b[0m\n\u001b[1;32m   2982\u001b[0m                 \u001b[0mindexer\u001b[0m \u001b[0;34m=\u001b[0m \u001b[0;34m[\u001b[0m\u001b[0mindexer\u001b[0m\u001b[0;34m]\u001b[0m\u001b[0;34m\u001b[0m\u001b[0m\n",
      "\u001b[0;32m~/anaconda3/lib/python3.6/site-packages/pandas/core/indexes/base.py\u001b[0m in \u001b[0;36mget_loc\u001b[0;34m(self, key, method, tolerance)\u001b[0m\n\u001b[1;32m   2897\u001b[0m                 \u001b[0;32mreturn\u001b[0m \u001b[0mself\u001b[0m\u001b[0;34m.\u001b[0m\u001b[0m_engine\u001b[0m\u001b[0;34m.\u001b[0m\u001b[0mget_loc\u001b[0m\u001b[0;34m(\u001b[0m\u001b[0mkey\u001b[0m\u001b[0;34m)\u001b[0m\u001b[0;34m\u001b[0m\u001b[0m\n\u001b[1;32m   2898\u001b[0m             \u001b[0;32mexcept\u001b[0m \u001b[0mKeyError\u001b[0m\u001b[0;34m:\u001b[0m\u001b[0;34m\u001b[0m\u001b[0m\n\u001b[0;32m-> 2899\u001b[0;31m                 \u001b[0;32mreturn\u001b[0m \u001b[0mself\u001b[0m\u001b[0;34m.\u001b[0m\u001b[0m_engine\u001b[0m\u001b[0;34m.\u001b[0m\u001b[0mget_loc\u001b[0m\u001b[0;34m(\u001b[0m\u001b[0mself\u001b[0m\u001b[0;34m.\u001b[0m\u001b[0m_maybe_cast_indexer\u001b[0m\u001b[0;34m(\u001b[0m\u001b[0mkey\u001b[0m\u001b[0;34m)\u001b[0m\u001b[0;34m)\u001b[0m\u001b[0;34m\u001b[0m\u001b[0m\n\u001b[0m\u001b[1;32m   2900\u001b[0m         \u001b[0mindexer\u001b[0m \u001b[0;34m=\u001b[0m \u001b[0mself\u001b[0m\u001b[0;34m.\u001b[0m\u001b[0mget_indexer\u001b[0m\u001b[0;34m(\u001b[0m\u001b[0;34m[\u001b[0m\u001b[0mkey\u001b[0m\u001b[0;34m]\u001b[0m\u001b[0;34m,\u001b[0m \u001b[0mmethod\u001b[0m\u001b[0;34m=\u001b[0m\u001b[0mmethod\u001b[0m\u001b[0;34m,\u001b[0m \u001b[0mtolerance\u001b[0m\u001b[0;34m=\u001b[0m\u001b[0mtolerance\u001b[0m\u001b[0;34m)\u001b[0m\u001b[0;34m\u001b[0m\u001b[0m\n\u001b[1;32m   2901\u001b[0m         \u001b[0;32mif\u001b[0m \u001b[0mindexer\u001b[0m\u001b[0;34m.\u001b[0m\u001b[0mndim\u001b[0m \u001b[0;34m>\u001b[0m \u001b[0;36m1\u001b[0m \u001b[0;32mor\u001b[0m \u001b[0mindexer\u001b[0m\u001b[0;34m.\u001b[0m\u001b[0msize\u001b[0m \u001b[0;34m>\u001b[0m \u001b[0;36m1\u001b[0m\u001b[0;34m:\u001b[0m\u001b[0;34m\u001b[0m\u001b[0m\n",
      "\u001b[0;32mpandas/_libs/index.pyx\u001b[0m in \u001b[0;36mpandas._libs.index.IndexEngine.get_loc\u001b[0;34m()\u001b[0m\n",
      "\u001b[0;32mpandas/_libs/index.pyx\u001b[0m in \u001b[0;36mpandas._libs.index.IndexEngine.get_loc\u001b[0;34m()\u001b[0m\n",
      "\u001b[0;32mpandas/_libs/hashtable_class_helper.pxi\u001b[0m in \u001b[0;36mpandas._libs.hashtable.PyObjectHashTable.get_item\u001b[0;34m()\u001b[0m\n",
      "\u001b[0;32mpandas/_libs/hashtable_class_helper.pxi\u001b[0m in \u001b[0;36mpandas._libs.hashtable.PyObjectHashTable.get_item\u001b[0;34m()\u001b[0m\n",
      "\u001b[0;31mKeyError\u001b[0m: True"
     ]
    }
   ],
   "source": [
    "# If a keyword shows up in \n",
    "df['SERMONS' in df['keywords'].iloc[5000000]]"
   ]
  },
  {
   "cell_type": "code",
   "execution_count": 51,
   "metadata": {},
   "outputs": [
    {
     "data": {
      "text/plain": [
       "56                                                     []\n",
       "58                                                     []\n",
       "57                                                     []\n",
       "55                                                     []\n",
       "54                                                     []\n",
       "                              ...                        \n",
       "4930    [Country Music, Books and Literature, Coronavi...\n",
       "4929    [Colleges and Universities, E-Learning, Comput...\n",
       "4928                                                   []\n",
       "4965    [United States Defense and Military Forces, Da...\n",
       "4853                            [Coronavirus (2019-nCoV)]\n",
       "Name: keywords, Length: 14910907, dtype: object"
      ]
     },
     "execution_count": 51,
     "metadata": {},
     "output_type": "execute_result"
    }
   ],
   "source": [
    "df['keywords'].iloc[]"
   ]
  },
  {
   "cell_type": "code",
   "execution_count": 83,
   "metadata": {},
   "outputs": [],
   "source": [
    "ranges = {}\n",
    "for dk in deaf_keywords:\n",
    "    dk_df = df.loc[[(dk in map(str.lower, x)) for x in df['keywords']]]\n",
    "    first_appearance = dk_df['date'].iloc[0].strftime('%Y')\n",
    "    last_appearance = dk_df['date'].iloc[-1].strftime('%Y')\n",
    "    ranges[dk] = [first_appearance, last_appearance]"
   ]
  },
  {
   "cell_type": "markdown",
   "metadata": {},
   "source": [
    "Check ranges of time where each word (from list of words about the deaf) appears in headlines."
   ]
  },
  {
   "cell_type": "code",
   "execution_count": 86,
   "metadata": {},
   "outputs": [
    {
     "name": "stdout",
     "output_type": "stream",
     "text": [
      "deafness: ['1879', '2020']\n",
      "ears and hearing: ['1912', '2020']\n",
      "deafness and deaf mutes: ['1932', '1963']\n",
      "deafness and deaf-mutes: ['1959', '1979']\n",
      "sign language: ['1933', '2020']\n",
      "hearing aids: ['1983', '2020']\n",
      "deafness and deaf‐mutes: ['1970', '1979']\n",
      "deaf mutes: ['1914', '1930']\n",
      "deaf, the: ['1918', '1928']\n",
      "cochlear implants: ['1984', '2020']\n",
      "deaf: ['1925', '1930']\n",
      "deaf-mutes: ['1914', '1931']\n",
      "deaf drivers: ['1923', '1927']\n",
      "sign languages: ['1941', '1943']\n",
      "deaf voters: ['1924', '1924']\n",
      "international deaf mute olympics: ['1931', '1931']\n",
      "deaf, games for the: ['1935', '1935']\n",
      "deaf children: ['1926', '1926']\n"
     ]
    }
   ],
   "source": [
    "for i in ranges:\n",
    "    print(i + ': ' + str([x.strftime('%Y') for x in ranges[i]]))"
   ]
  },
  {
   "cell_type": "code",
   "execution_count": 121,
   "metadata": {},
   "outputs": [],
   "source": [
    "import numpy as np"
   ]
  },
  {
   "cell_type": "code",
   "execution_count": 145,
   "metadata": {},
   "outputs": [],
   "source": [
    "y = ranges.keys()\n",
    "x_begin = np.fromiter((ranges[i][0].strftime('%Y') for i in ranges), dtype=int)\n",
    "x_end = np.fromiter((ranges[i][1].strftime('%Y') for i in ranges), dtype=int)"
   ]
  },
  {
   "cell_type": "code",
   "execution_count": 146,
   "metadata": {},
   "outputs": [
    {
     "data": {
      "text/plain": [
       "array([1879, 1912, 1932, 1959, 1933, 1983, 1970, 1914, 1918, 1984, 1925,\n",
       "       1914, 1923, 1941, 1924, 1931, 1935, 1926])"
      ]
     },
     "execution_count": 146,
     "metadata": {},
     "output_type": "execute_result"
    }
   ],
   "source": [
    "x_begin"
   ]
  },
  {
   "cell_type": "code",
   "execution_count": 174,
   "metadata": {},
   "outputs": [
    {
     "data": {
      "image/png": "[encoded data removed]",
      "text/plain": [
       "<Figure size 1440x720 with 1 Axes>"
      ]
     },
     "metadata": {},
     "output_type": "display_data"
    }
   ],
   "source": [
    "plt.figure(figsize=(20, 10))\n",
    "plt.barh(range(len(x_begin)), x_end-x_begin, left=x_begin)\n",
    "plt.yticks(range(len(x_begin)), y, fontsize=20)\n",
    "plt.xticks(fontsize=20)\n",
    "plt.title('The Lifetime of a Keyword About the Deaf', fontsize=20)\n",
    "plt.show()"
   ]
  },
  {
   "cell_type": "markdown",
   "metadata": {},
   "source": [
    "Some of them don't show up because they're only present for a month, too small to show up in this view of 169 years."
   ]
  },
  {
   "cell_type": "code",
   "execution_count": 221,
   "metadata": {},
   "outputs": [],
   "source": [
    "deaf_and_dumb = df[df['headline'].str.lower().str.contains('deaf and dumb')]"
   ]
  },
  {
   "cell_type": "code",
   "execution_count": 222,
   "metadata": {},
   "outputs": [
    {
     "data": {
      "text/html": [
       "<div>\n",
       "<style scoped>\n",
       "    .dataframe tbody tr th:only-of-type {\n",
       "        vertical-align: middle;\n",
       "    }\n",
       "\n",
       "    .dataframe tbody tr th {\n",
       "        vertical-align: top;\n",
       "    }\n",
       "\n",
       "    .dataframe thead th {\n",
       "        text-align: right;\n",
       "    }\n",
       "</style>\n",
       "<table border=\"1\" class=\"dataframe\">\n",
       "  <thead>\n",
       "    <tr style=\"text-align: right;\">\n",
       "      <th></th>\n",
       "      <th>headline</th>\n",
       "      <th>date</th>\n",
       "      <th>doc_type</th>\n",
       "      <th>material_type</th>\n",
       "      <th>section</th>\n",
       "      <th>keywords</th>\n",
       "    </tr>\n",
       "  </thead>\n",
       "  <tbody>\n",
       "    <tr>\n",
       "      <td>851</td>\n",
       "      <td>Institution for the Deaf and Dumb.</td>\n",
       "      <td>1852-05-14</td>\n",
       "      <td>article</td>\n",
       "      <td>Archives</td>\n",
       "      <td>NaN</td>\n",
       "      <td>[]</td>\n",
       "    </tr>\n",
       "    <tr>\n",
       "      <td>892</td>\n",
       "      <td>The Deaf and Dumb.</td>\n",
       "      <td>1852-07-15</td>\n",
       "      <td>article</td>\n",
       "      <td>Archives</td>\n",
       "      <td>NaN</td>\n",
       "      <td>[]</td>\n",
       "    </tr>\n",
       "    <tr>\n",
       "      <td>1916</td>\n",
       "      <td>BROOKLYN CITY.; MARRIAGE AT THE DEAF AND DUMB INSTITUTE. SUDDEN DEATH. COUP DE SOLEIL SHOCKING A...</td>\n",
       "      <td>1852-07-29</td>\n",
       "      <td>article</td>\n",
       "      <td>Archives</td>\n",
       "      <td>NaN</td>\n",
       "      <td>[]</td>\n",
       "    </tr>\n",
       "    <tr>\n",
       "      <td>1159</td>\n",
       "      <td>The Deaf and Dumb.</td>\n",
       "      <td>1852-10-12</td>\n",
       "      <td>article</td>\n",
       "      <td>Archives</td>\n",
       "      <td>NaN</td>\n",
       "      <td>[]</td>\n",
       "    </tr>\n",
       "    <tr>\n",
       "      <td>1903</td>\n",
       "      <td>Quarterly Examination of Pupils at Pupils at the Deaf and Dumb Institute.</td>\n",
       "      <td>1852-11-20</td>\n",
       "      <td>article</td>\n",
       "      <td>Archives</td>\n",
       "      <td>NaN</td>\n",
       "      <td>[]</td>\n",
       "    </tr>\n",
       "    <tr>\n",
       "      <td>...</td>\n",
       "      <td>...</td>\n",
       "      <td>...</td>\n",
       "      <td>...</td>\n",
       "      <td>...</td>\n",
       "      <td>...</td>\n",
       "      <td>...</td>\n",
       "    </tr>\n",
       "    <tr>\n",
       "      <td>9642</td>\n",
       "      <td>GERMANS WIN AT FOOTBALL; Score in Deaf and Dumb Meet-- Italian Cyclists Triumph.</td>\n",
       "      <td>1931-08-24</td>\n",
       "      <td>article</td>\n",
       "      <td>Article</td>\n",
       "      <td>NaN</td>\n",
       "      <td>[]</td>\n",
       "    </tr>\n",
       "    <tr>\n",
       "      <td>11223</td>\n",
       "      <td>! SIR PHILIP MAGNUS, I EDUCATOR, 90, DIES; Former Member of Parliament Led in Fight to Establish...</td>\n",
       "      <td>1933-08-30</td>\n",
       "      <td>article</td>\n",
       "      <td>Obituary</td>\n",
       "      <td>NaN</td>\n",
       "      <td>[LONGEVITY]</td>\n",
       "    </tr>\n",
       "    <tr>\n",
       "      <td>5576</td>\n",
       "      <td>Corcoran 'Deaf and Dumb' When Queried on Tydings</td>\n",
       "      <td>1938-09-15</td>\n",
       "      <td>article</td>\n",
       "      <td>Front Page</td>\n",
       "      <td>NaN</td>\n",
       "      <td>[]</td>\n",
       "    </tr>\n",
       "    <tr>\n",
       "      <td>7757</td>\n",
       "      <td>Treasure Chest; The Deaf and Dumb</td>\n",
       "      <td>1945-09-23</td>\n",
       "      <td>article</td>\n",
       "      <td>Article</td>\n",
       "      <td>NaN</td>\n",
       "      <td>[]</td>\n",
       "    </tr>\n",
       "    <tr>\n",
       "      <td>3801</td>\n",
       "      <td>Deaf and Dumb Pickpockets</td>\n",
       "      <td>1958-03-09</td>\n",
       "      <td>article</td>\n",
       "      <td>Article</td>\n",
       "      <td>NaN</td>\n",
       "      <td>[]</td>\n",
       "    </tr>\n",
       "  </tbody>\n",
       "</table>\n",
       "<p>209 rows × 6 columns</p>\n",
       "</div>"
      ],
      "text/plain": [
       "                                                                                                  headline  \\\n",
       "851                                                                     Institution for the Deaf and Dumb.   \n",
       "892                                                                                     The Deaf and Dumb.   \n",
       "1916   BROOKLYN CITY.; MARRIAGE AT THE DEAF AND DUMB INSTITUTE. SUDDEN DEATH. COUP DE SOLEIL SHOCKING A...   \n",
       "1159                                                                                    The Deaf and Dumb.   \n",
       "1903                             Quarterly Examination of Pupils at Pupils at the Deaf and Dumb Institute.   \n",
       "...                                                                                                    ...   \n",
       "9642                      GERMANS WIN AT FOOTBALL; Score in Deaf and Dumb Meet-- Italian Cyclists Triumph.   \n",
       "11223  ! SIR PHILIP MAGNUS, I EDUCATOR, 90, DIES; Former Member of Parliament Led in Fight to Establish...   \n",
       "5576                                                      Corcoran 'Deaf and Dumb' When Queried on Tydings   \n",
       "7757                                                                     Treasure Chest; The Deaf and Dumb   \n",
       "3801                                                                             Deaf and Dumb Pickpockets   \n",
       "\n",
       "            date doc_type material_type section     keywords  \n",
       "851   1852-05-14  article      Archives     NaN           []  \n",
       "892   1852-07-15  article      Archives     NaN           []  \n",
       "1916  1852-07-29  article      Archives     NaN           []  \n",
       "1159  1852-10-12  article      Archives     NaN           []  \n",
       "1903  1852-11-20  article      Archives     NaN           []  \n",
       "...          ...      ...           ...     ...          ...  \n",
       "9642  1931-08-24  article       Article     NaN           []  \n",
       "11223 1933-08-30  article      Obituary     NaN  [LONGEVITY]  \n",
       "5576  1938-09-15  article    Front Page     NaN           []  \n",
       "7757  1945-09-23  article       Article     NaN           []  \n",
       "3801  1958-03-09  article       Article     NaN           []  \n",
       "\n",
       "[209 rows x 6 columns]"
      ]
     },
     "execution_count": 222,
     "metadata": {},
     "output_type": "execute_result"
    }
   ],
   "source": [
    "deaf_and_dumb"
   ]
  },
  {
   "cell_type": "markdown",
   "metadata": {},
   "source": [
    "209 articles about the \"deaf and dumb\"."
   ]
  },
  {
   "cell_type": "code",
   "execution_count": 223,
   "metadata": {},
   "outputs": [
    {
     "name": "stdout",
     "output_type": "stream",
     "text": [
      "Range: 1852—1958\n"
     ]
    }
   ],
   "source": [
    "print('Range: ' + str(deaf_and_dumb.iloc[0]['date'].strftime('%Y')) + '—' + str(deaf_and_dumb.iloc[-1]['date'].strftime('%Y')))"
   ]
  },
  {
   "cell_type": "markdown",
   "metadata": {},
   "source": [
    "Most common words."
   ]
  },
  {
   "cell_type": "code",
   "execution_count": 234,
   "metadata": {},
   "outputs": [
    {
     "data": {
      "text/plain": [
       "851   0    Institution\n",
       "      1            for\n",
       "      2            the\n",
       "      3           Deaf\n",
       "      4            and\n",
       "              ...     \n",
       "7757  5           Dumb\n",
       "3801  0           Deaf\n",
       "      1            and\n",
       "      2           Dumb\n",
       "      3    Pickpockets\n",
       "Length: 4150, dtype: object"
      ]
     },
     "execution_count": 234,
     "metadata": {},
     "output_type": "execute_result"
    }
   ],
   "source": [
    "deaf_and_dumb['headline'].str.split(expand=True).stack()"
   ]
  },
  {
   "cell_type": "code",
   "execution_count": 257,
   "metadata": {},
   "outputs": [],
   "source": [
    "stop = stopwords.words('english')\n",
    "stop.append('deaf')\n",
    "stop.append('dumb')"
   ]
  },
  {
   "cell_type": "code",
   "execution_count": 260,
   "metadata": {},
   "outputs": [
    {
     "data": {
      "text/plain": [
       "institution    47\n",
       "newyork        33\n",
       "city           29\n",
       "board          17\n",
       "new            16\n",
       "american       16\n",
       "pupils         14\n",
       "instruction    13\n",
       "institute      13\n",
       "school         12\n",
       "dtype: int64"
      ]
     },
     "execution_count": 260,
     "metadata": {},
     "output_type": "execute_result"
    }
   ],
   "source": [
    "deaf_and_dumb['headline'].str.lower().str.replace('[^\\w\\s]','').apply(lambda x: ' '.join([word for word in x.split() if word.lower() not in (stop)])).str.split(expand=True).stack().value_counts().head(10)"
   ]
  },
  {
   "cell_type": "markdown",
   "metadata": {},
   "source": [
    "We expect this usage of deaf and dumb. Institution. It used to be the name."
   ]
  },
  {
   "cell_type": "code",
   "execution_count": null,
   "metadata": {},
   "outputs": [],
   "source": []
  },
  {
   "cell_type": "markdown",
   "metadata": {},
   "source": [
    "## Deaf drivers"
   ]
  },
  {
   "cell_type": "code",
   "execution_count": 213,
   "metadata": {},
   "outputs": [
    {
     "data": {
      "text/html": [
       "<div>\n",
       "<style scoped>\n",
       "    .dataframe tbody tr th:only-of-type {\n",
       "        vertical-align: middle;\n",
       "    }\n",
       "\n",
       "    .dataframe tbody tr th {\n",
       "        vertical-align: top;\n",
       "    }\n",
       "\n",
       "    .dataframe thead th {\n",
       "        text-align: right;\n",
       "    }\n",
       "</style>\n",
       "<table border=\"1\" class=\"dataframe\">\n",
       "  <thead>\n",
       "    <tr style=\"text-align: right;\">\n",
       "      <th></th>\n",
       "      <th>headline</th>\n",
       "      <th>date</th>\n",
       "      <th>doc_type</th>\n",
       "      <th>material_type</th>\n",
       "      <th>section</th>\n",
       "      <th>keywords</th>\n",
       "    </tr>\n",
       "  </thead>\n",
       "  <tbody>\n",
       "    <tr>\n",
       "      <td>9810</td>\n",
       "      <td>Deaf Object to Any Auto Ban.</td>\n",
       "      <td>1923-06-29</td>\n",
       "      <td>article</td>\n",
       "      <td>Article</td>\n",
       "      <td>NaN</td>\n",
       "      <td>[AUTOMOBILES, DEAF DRIVERS, DEAF, THE]</td>\n",
       "    </tr>\n",
       "    <tr>\n",
       "      <td>5412</td>\n",
       "      <td>BARS DEAF MUTE DRIVERS.; Maryland Court, In Test Case, Denies Them Autoists' Rights.</td>\n",
       "      <td>1925-02-15</td>\n",
       "      <td>article</td>\n",
       "      <td>Article</td>\n",
       "      <td>NaN</td>\n",
       "      <td>[AUTOMOBILES, DRIVERS, DEAF DRIVERS, DEAF MUTES]</td>\n",
       "    </tr>\n",
       "    <tr>\n",
       "      <td>10717</td>\n",
       "      <td>Resists New Law on Deaf Mutes.</td>\n",
       "      <td>1925-03-28</td>\n",
       "      <td>article</td>\n",
       "      <td>Article</td>\n",
       "      <td>NaN</td>\n",
       "      <td>[AUTOMOBILES, DRIVERS, DEAF DRIVERS, AUTOMOBILES, DRIVERS, CRIPPLED DRIVERS]</td>\n",
       "    </tr>\n",
       "    <tr>\n",
       "      <td>280</td>\n",
       "      <td>SAYS DEAF MAY DRIVE AUTOS IN NEW JERSEY; Attorney General Rules Defective Hearing Is No Bar to G...</td>\n",
       "      <td>1925-04-03</td>\n",
       "      <td>article</td>\n",
       "      <td>Article</td>\n",
       "      <td>NaN</td>\n",
       "      <td>[TRANSIT, AUTOMOBILES, DEAF DRIVERS, ELEVATED RYS]</td>\n",
       "    </tr>\n",
       "    <tr>\n",
       "      <td>1216</td>\n",
       "      <td>RETRIAL FOR FARINA SOUGHT BY COUNSEL; Governor to Be Asked to Extend Stay of Executions in West ...</td>\n",
       "      <td>1925-04-04</td>\n",
       "      <td>article</td>\n",
       "      <td>Article</td>\n",
       "      <td>NaN</td>\n",
       "      <td>[MURDERS, WEST END BANK MESSENGERS, AUTOMOBILES, DEAF DRIVERS]</td>\n",
       "    </tr>\n",
       "    <tr>\n",
       "      <td>12128</td>\n",
       "      <td>COURT FINES DEAF MUTE.; Talks to Him in Sign Language That Policeman Didn't Understand.</td>\n",
       "      <td>1927-10-27</td>\n",
       "      <td>article</td>\n",
       "      <td>Article</td>\n",
       "      <td>NaN</td>\n",
       "      <td>[AUTOMOBILES, DEAF DRIVERS]</td>\n",
       "    </tr>\n",
       "    <tr>\n",
       "      <td>10839</td>\n",
       "      <td>TAKES DRIVING TEST FOR A DEAF-MUTE; Youth, Found Out Only Through Age Discrepancy, Gets 90 Days ...</td>\n",
       "      <td>1927-11-24</td>\n",
       "      <td>article</td>\n",
       "      <td>Article</td>\n",
       "      <td>NaN</td>\n",
       "      <td>[AUTOMOBILES, DEAF DRIVERS]</td>\n",
       "    </tr>\n",
       "    <tr>\n",
       "      <td>12688</td>\n",
       "      <td>DENIES DEAF ARE UNFIT TO DRIVE AUTOMOBILES; M.L. Kenner, in Letter to Judge McAdoo, Says They Ar...</td>\n",
       "      <td>1927-11-28</td>\n",
       "      <td>article</td>\n",
       "      <td>Article</td>\n",
       "      <td>NaN</td>\n",
       "      <td>[AUTOMOBILES, DEAF DRIVERS]</td>\n",
       "    </tr>\n",
       "    <tr>\n",
       "      <td>13132</td>\n",
       "      <td>OFFERS TO PAY BOY'S FINE.; Woman Sends $150, but the Accused Has Settled Case.</td>\n",
       "      <td>1927-11-29</td>\n",
       "      <td>article</td>\n",
       "      <td>Article</td>\n",
       "      <td>NaN</td>\n",
       "      <td>[AUTOMOBILES, DEAF DRIVERS]</td>\n",
       "    </tr>\n",
       "    <tr>\n",
       "      <td>2398</td>\n",
       "      <td>Deaf Automobile Drivers.</td>\n",
       "      <td>1927-12-06</td>\n",
       "      <td>article</td>\n",
       "      <td>Letter</td>\n",
       "      <td>NaN</td>\n",
       "      <td>[AUTOMOBILES, DEAF DRIVERS]</td>\n",
       "    </tr>\n",
       "  </tbody>\n",
       "</table>\n",
       "</div>"
      ],
      "text/plain": [
       "                                                                                                  headline  \\\n",
       "9810                                                                          Deaf Object to Any Auto Ban.   \n",
       "5412                  BARS DEAF MUTE DRIVERS.; Maryland Court, In Test Case, Denies Them Autoists' Rights.   \n",
       "10717                                                                       Resists New Law on Deaf Mutes.   \n",
       "280    SAYS DEAF MAY DRIVE AUTOS IN NEW JERSEY; Attorney General Rules Defective Hearing Is No Bar to G...   \n",
       "1216   RETRIAL FOR FARINA SOUGHT BY COUNSEL; Governor to Be Asked to Extend Stay of Executions in West ...   \n",
       "12128              COURT FINES DEAF MUTE.; Talks to Him in Sign Language That Policeman Didn't Understand.   \n",
       "10839  TAKES DRIVING TEST FOR A DEAF-MUTE; Youth, Found Out Only Through Age Discrepancy, Gets 90 Days ...   \n",
       "12688  DENIES DEAF ARE UNFIT TO DRIVE AUTOMOBILES; M.L. Kenner, in Letter to Judge McAdoo, Says They Ar...   \n",
       "13132                       OFFERS TO PAY BOY'S FINE.; Woman Sends $150, but the Accused Has Settled Case.   \n",
       "2398                                                                              Deaf Automobile Drivers.   \n",
       "\n",
       "            date doc_type material_type section  \\\n",
       "9810  1923-06-29  article       Article     NaN   \n",
       "5412  1925-02-15  article       Article     NaN   \n",
       "10717 1925-03-28  article       Article     NaN   \n",
       "280   1925-04-03  article       Article     NaN   \n",
       "1216  1925-04-04  article       Article     NaN   \n",
       "12128 1927-10-27  article       Article     NaN   \n",
       "10839 1927-11-24  article       Article     NaN   \n",
       "12688 1927-11-28  article       Article     NaN   \n",
       "13132 1927-11-29  article       Article     NaN   \n",
       "2398  1927-12-06  article        Letter     NaN   \n",
       "\n",
       "                                                                           keywords  \n",
       "9810                                         [AUTOMOBILES, DEAF DRIVERS, DEAF, THE]  \n",
       "5412                               [AUTOMOBILES, DRIVERS, DEAF DRIVERS, DEAF MUTES]  \n",
       "10717  [AUTOMOBILES, DRIVERS, DEAF DRIVERS, AUTOMOBILES, DRIVERS, CRIPPLED DRIVERS]  \n",
       "280                              [TRANSIT, AUTOMOBILES, DEAF DRIVERS, ELEVATED RYS]  \n",
       "1216                 [MURDERS, WEST END BANK MESSENGERS, AUTOMOBILES, DEAF DRIVERS]  \n",
       "12128                                                   [AUTOMOBILES, DEAF DRIVERS]  \n",
       "10839                                                   [AUTOMOBILES, DEAF DRIVERS]  \n",
       "12688                                                   [AUTOMOBILES, DEAF DRIVERS]  \n",
       "13132                                                   [AUTOMOBILES, DEAF DRIVERS]  \n",
       "2398                                                    [AUTOMOBILES, DEAF DRIVERS]  "
      ]
     },
     "execution_count": 213,
     "metadata": {},
     "output_type": "execute_result"
    }
   ],
   "source": [
    "df.loc[[('deaf drivers' in map(str.lower, x)) for x in df['keywords']]]"
   ]
  },
  {
   "cell_type": "markdown",
   "metadata": {},
   "source": [
    "## Sign language"
   ]
  },
  {
   "cell_type": "code",
   "execution_count": 214,
   "metadata": {},
   "outputs": [],
   "source": [
    "sl_df = df.loc[[('sign language' in map(str.lower, x)) for x in df['keywords']]]"
   ]
  },
  {
   "cell_type": "code",
   "execution_count": 215,
   "metadata": {},
   "outputs": [
    {
     "data": {
      "text/html": [
       "<div>\n",
       "<style scoped>\n",
       "    .dataframe tbody tr th:only-of-type {\n",
       "        vertical-align: middle;\n",
       "    }\n",
       "\n",
       "    .dataframe tbody tr th {\n",
       "        vertical-align: top;\n",
       "    }\n",
       "\n",
       "    .dataframe thead th {\n",
       "        text-align: right;\n",
       "    }\n",
       "</style>\n",
       "<table border=\"1\" class=\"dataframe\">\n",
       "  <thead>\n",
       "    <tr style=\"text-align: right;\">\n",
       "      <th></th>\n",
       "      <th>headline</th>\n",
       "      <th>date</th>\n",
       "      <th>doc_type</th>\n",
       "      <th>material_type</th>\n",
       "      <th>section</th>\n",
       "      <th>keywords</th>\n",
       "    </tr>\n",
       "  </thead>\n",
       "  <tbody>\n",
       "    <tr>\n",
       "      <td>7225</td>\n",
       "      <td>R.S. PIERREPONT INJURED.; New Yorker Breaks Collarbone in South in Fall From Horse.</td>\n",
       "      <td>1933-01-15</td>\n",
       "      <td>article</td>\n",
       "      <td>Article</td>\n",
       "      <td>NaN</td>\n",
       "      <td>[ACCIDENTS, HORSEBACK RIDING, SIGN LANGUAGE, DISPATCHES]</td>\n",
       "    </tr>\n",
       "    <tr>\n",
       "      <td>8917</td>\n",
       "      <td>Chimps Learning Signs Faster With Deaf</td>\n",
       "      <td>1975-02-26</td>\n",
       "      <td>article</td>\n",
       "      <td>Archives</td>\n",
       "      <td>NaN</td>\n",
       "      <td>[Sign Language, DEAFNESS AND DEAF‐MUTES, Monkeys and Apes]</td>\n",
       "    </tr>\n",
       "    <tr>\n",
       "      <td>4347</td>\n",
       "      <td>PATENTS;\\nClassroom Signals For Deaf Students</td>\n",
       "      <td>1983-01-15</td>\n",
       "      <td>article</td>\n",
       "      <td>News</td>\n",
       "      <td>NaN</td>\n",
       "      <td>[INVENTIONS AND INVENTORS, Sign Language, Deafness, Children and Youth, Education and Schools]</td>\n",
       "    </tr>\n",
       "    <tr>\n",
       "      <td>4240</td>\n",
       "      <td>Performance of 'Evita' To Be Signed for Deaf</td>\n",
       "      <td>1983-02-12</td>\n",
       "      <td>article</td>\n",
       "      <td>News</td>\n",
       "      <td>NaN</td>\n",
       "      <td>[Sign Language, Theater]</td>\n",
       "    </tr>\n",
       "    <tr>\n",
       "      <td>7265</td>\n",
       "      <td>'PARZIVAL' STAGED BY AND FOR THE DEAF</td>\n",
       "      <td>1983-03-18</td>\n",
       "      <td>article</td>\n",
       "      <td>Review</td>\n",
       "      <td>NaN</td>\n",
       "      <td>[Deafness, Sign Language, Theater]</td>\n",
       "    </tr>\n",
       "  </tbody>\n",
       "</table>\n",
       "</div>"
      ],
      "text/plain": [
       "                                                                                 headline  \\\n",
       "7225  R.S. PIERREPONT INJURED.; New Yorker Breaks Collarbone in South in Fall From Horse.   \n",
       "8917                                               Chimps Learning Signs Faster With Deaf   \n",
       "4347                                        PATENTS;\\nClassroom Signals For Deaf Students   \n",
       "4240                                         Performance of 'Evita' To Be Signed for Deaf   \n",
       "7265                                                'PARZIVAL' STAGED BY AND FOR THE DEAF   \n",
       "\n",
       "           date doc_type material_type section  \\\n",
       "7225 1933-01-15  article       Article     NaN   \n",
       "8917 1975-02-26  article      Archives     NaN   \n",
       "4347 1983-01-15  article          News     NaN   \n",
       "4240 1983-02-12  article          News     NaN   \n",
       "7265 1983-03-18  article        Review     NaN   \n",
       "\n",
       "                                                                                            keywords  \n",
       "7225                                        [ACCIDENTS, HORSEBACK RIDING, SIGN LANGUAGE, DISPATCHES]  \n",
       "8917                                      [Sign Language, DEAFNESS AND DEAF‐MUTES, Monkeys and Apes]  \n",
       "4347  [INVENTIONS AND INVENTORS, Sign Language, Deafness, Children and Youth, Education and Schools]  \n",
       "4240                                                                        [Sign Language, Theater]  \n",
       "7265                                                              [Deafness, Sign Language, Theater]  "
      ]
     },
     "execution_count": 215,
     "metadata": {},
     "output_type": "execute_result"
    }
   ],
   "source": [
    "sl_df.head()"
   ]
  },
  {
   "cell_type": "code",
   "execution_count": 216,
   "metadata": {},
   "outputs": [
    {
     "data": {
      "text/html": [
       "<div>\n",
       "<style scoped>\n",
       "    .dataframe tbody tr th:only-of-type {\n",
       "        vertical-align: middle;\n",
       "    }\n",
       "\n",
       "    .dataframe tbody tr th {\n",
       "        vertical-align: top;\n",
       "    }\n",
       "\n",
       "    .dataframe thead th {\n",
       "        text-align: right;\n",
       "    }\n",
       "</style>\n",
       "<table border=\"1\" class=\"dataframe\">\n",
       "  <thead>\n",
       "    <tr style=\"text-align: right;\">\n",
       "      <th></th>\n",
       "      <th>headline</th>\n",
       "      <th>date</th>\n",
       "      <th>doc_type</th>\n",
       "      <th>material_type</th>\n",
       "      <th>section</th>\n",
       "      <th>keywords</th>\n",
       "    </tr>\n",
       "  </thead>\n",
       "  <tbody>\n",
       "    <tr>\n",
       "      <td>5523</td>\n",
       "      <td>Harlan Lane, Vigorous Advocate for Deaf Culture, Dies at 82</td>\n",
       "      <td>2019-07-28</td>\n",
       "      <td>article</td>\n",
       "      <td>Obituary (Obit)</td>\n",
       "      <td>NaN</td>\n",
       "      <td>[Deafness, Psychology and Psychologists, Language and Languages, Sign Language, Disabilities, De...</td>\n",
       "    </tr>\n",
       "    <tr>\n",
       "      <td>94</td>\n",
       "      <td>I Performed at the Super Bowl. You Might Have Missed Me.</td>\n",
       "      <td>2020-02-03</td>\n",
       "      <td>article</td>\n",
       "      <td>Op-Ed</td>\n",
       "      <td>NaN</td>\n",
       "      <td>[Super Bowl, Football, Disabilities, Deafness, Sign Language, Television, National Anthems, Disc...</td>\n",
       "    </tr>\n",
       "    <tr>\n",
       "      <td>3332</td>\n",
       "      <td>Harriet Tubman on a Debit Card: A Tribute or a Gaffe?</td>\n",
       "      <td>2020-02-17</td>\n",
       "      <td>article</td>\n",
       "      <td>News</td>\n",
       "      <td>NaN</td>\n",
       "      <td>[Black People, Banking and Financial Institutions, Slavery (Historical), Debit Cards, Sign Langu...</td>\n",
       "    </tr>\n",
       "    <tr>\n",
       "      <td>6414</td>\n",
       "      <td>How Do You Sign ‘Don’t Drink Bleach’?</td>\n",
       "      <td>2020-04-27</td>\n",
       "      <td>article</td>\n",
       "      <td>News</td>\n",
       "      <td>NaN</td>\n",
       "      <td>[Coronavirus (2019-nCoV), Disabilities, Deafness, Sign Language, Translation and Interpreters, L...</td>\n",
       "    </tr>\n",
       "    <tr>\n",
       "      <td>1430</td>\n",
       "      <td>Mothering While Deaf in a Newly Quiet World</td>\n",
       "      <td>2020-05-08</td>\n",
       "      <td>article</td>\n",
       "      <td>News</td>\n",
       "      <td>NaN</td>\n",
       "      <td>[Love (Emotion), Deafness, Disabilities, Sign Language, Parenting, Coronavirus (2019-nCoV)]</td>\n",
       "    </tr>\n",
       "  </tbody>\n",
       "</table>\n",
       "</div>"
      ],
      "text/plain": [
       "                                                         headline       date  \\\n",
       "5523  Harlan Lane, Vigorous Advocate for Deaf Culture, Dies at 82 2019-07-28   \n",
       "94       I Performed at the Super Bowl. You Might Have Missed Me. 2020-02-03   \n",
       "3332        Harriet Tubman on a Debit Card: A Tribute or a Gaffe? 2020-02-17   \n",
       "6414                        How Do You Sign ‘Don’t Drink Bleach’? 2020-04-27   \n",
       "1430                  Mothering While Deaf in a Newly Quiet World 2020-05-08   \n",
       "\n",
       "     doc_type    material_type section  \\\n",
       "5523  article  Obituary (Obit)     NaN   \n",
       "94    article            Op-Ed     NaN   \n",
       "3332  article             News     NaN   \n",
       "6414  article             News     NaN   \n",
       "1430  article             News     NaN   \n",
       "\n",
       "                                                                                                 keywords  \n",
       "5523  [Deafness, Psychology and Psychologists, Language and Languages, Sign Language, Disabilities, De...  \n",
       "94    [Super Bowl, Football, Disabilities, Deafness, Sign Language, Television, National Anthems, Disc...  \n",
       "3332  [Black People, Banking and Financial Institutions, Slavery (Historical), Debit Cards, Sign Langu...  \n",
       "6414  [Coronavirus (2019-nCoV), Disabilities, Deafness, Sign Language, Translation and Interpreters, L...  \n",
       "1430          [Love (Emotion), Deafness, Disabilities, Sign Language, Parenting, Coronavirus (2019-nCoV)]  "
      ]
     },
     "execution_count": 216,
     "metadata": {},
     "output_type": "execute_result"
    }
   ],
   "source": [
    "sl_df.tail()"
   ]
  },
  {
   "cell_type": "markdown",
   "metadata": {},
   "source": [
    "## Li"
   ]
  }
 ],
 "metadata": {
  "kernelspec": {
   "display_name": "Python 3",
   "language": "python",
   "name": "python3"
  },
  "language_info": {
   "codemirror_mode": {
    "name": "ipython",
    "version": 3
   },
   "file_extension": ".py",
   "mimetype": "text/x-python",
   "name": "python",
   "nbconvert_exporter": "python",
   "pygments_lexer": "ipython3",
   "version": "3.6.5"
  }
 },
 "nbformat": 4,
 "nbformat_minor": 4
}
